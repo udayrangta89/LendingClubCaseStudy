{
 "cells": [
  {
   "cell_type": "markdown",
   "id": "1b68408f",
   "metadata": {},
   "source": [
    "# Lending Club Case Study."
   ]
  },
  {
   "cell_type": "markdown",
   "id": "0054148b",
   "metadata": {},
   "source": [
    "### Lets see what data we have !"
   ]
  },
  {
   "cell_type": "code",
   "execution_count": 3,
   "id": "8424a351",
   "metadata": {
    "scrolled": false
   },
   "outputs": [
    {
     "name": "stderr",
     "output_type": "stream",
     "text": [
      "C:\\Users\\sadhn\\AppData\\Local\\Temp\\ipykernel_17844\\3831609767.py:5: DtypeWarning: Columns (47) have mixed types. Specify dtype option on import or set low_memory=False.\n",
      "  loan = pd.read_csv('loan.csv')\n"
     ]
    },
    {
     "data": {
      "text/html": [
       "<div>\n",
       "<style scoped>\n",
       "    .dataframe tbody tr th:only-of-type {\n",
       "        vertical-align: middle;\n",
       "    }\n",
       "\n",
       "    .dataframe tbody tr th {\n",
       "        vertical-align: top;\n",
       "    }\n",
       "\n",
       "    .dataframe thead th {\n",
       "        text-align: right;\n",
       "    }\n",
       "</style>\n",
       "<table border=\"1\" class=\"dataframe\">\n",
       "  <thead>\n",
       "    <tr style=\"text-align: right;\">\n",
       "      <th></th>\n",
       "      <th>id</th>\n",
       "      <th>member_id</th>\n",
       "      <th>loan_amnt</th>\n",
       "      <th>funded_amnt</th>\n",
       "      <th>funded_amnt_inv</th>\n",
       "      <th>term</th>\n",
       "      <th>int_rate</th>\n",
       "      <th>installment</th>\n",
       "      <th>grade</th>\n",
       "      <th>sub_grade</th>\n",
       "      <th>...</th>\n",
       "      <th>num_tl_90g_dpd_24m</th>\n",
       "      <th>num_tl_op_past_12m</th>\n",
       "      <th>pct_tl_nvr_dlq</th>\n",
       "      <th>percent_bc_gt_75</th>\n",
       "      <th>pub_rec_bankruptcies</th>\n",
       "      <th>tax_liens</th>\n",
       "      <th>tot_hi_cred_lim</th>\n",
       "      <th>total_bal_ex_mort</th>\n",
       "      <th>total_bc_limit</th>\n",
       "      <th>total_il_high_credit_limit</th>\n",
       "    </tr>\n",
       "  </thead>\n",
       "  <tbody>\n",
       "    <tr>\n",
       "      <th>0</th>\n",
       "      <td>1077501</td>\n",
       "      <td>1296599</td>\n",
       "      <td>5000</td>\n",
       "      <td>5000</td>\n",
       "      <td>4975.0</td>\n",
       "      <td>36 months</td>\n",
       "      <td>10.65%</td>\n",
       "      <td>162.87</td>\n",
       "      <td>B</td>\n",
       "      <td>B2</td>\n",
       "      <td>...</td>\n",
       "      <td>NaN</td>\n",
       "      <td>NaN</td>\n",
       "      <td>NaN</td>\n",
       "      <td>NaN</td>\n",
       "      <td>0.0</td>\n",
       "      <td>0.0</td>\n",
       "      <td>NaN</td>\n",
       "      <td>NaN</td>\n",
       "      <td>NaN</td>\n",
       "      <td>NaN</td>\n",
       "    </tr>\n",
       "    <tr>\n",
       "      <th>1</th>\n",
       "      <td>1077430</td>\n",
       "      <td>1314167</td>\n",
       "      <td>2500</td>\n",
       "      <td>2500</td>\n",
       "      <td>2500.0</td>\n",
       "      <td>60 months</td>\n",
       "      <td>15.27%</td>\n",
       "      <td>59.83</td>\n",
       "      <td>C</td>\n",
       "      <td>C4</td>\n",
       "      <td>...</td>\n",
       "      <td>NaN</td>\n",
       "      <td>NaN</td>\n",
       "      <td>NaN</td>\n",
       "      <td>NaN</td>\n",
       "      <td>0.0</td>\n",
       "      <td>0.0</td>\n",
       "      <td>NaN</td>\n",
       "      <td>NaN</td>\n",
       "      <td>NaN</td>\n",
       "      <td>NaN</td>\n",
       "    </tr>\n",
       "    <tr>\n",
       "      <th>2</th>\n",
       "      <td>1077175</td>\n",
       "      <td>1313524</td>\n",
       "      <td>2400</td>\n",
       "      <td>2400</td>\n",
       "      <td>2400.0</td>\n",
       "      <td>36 months</td>\n",
       "      <td>15.96%</td>\n",
       "      <td>84.33</td>\n",
       "      <td>C</td>\n",
       "      <td>C5</td>\n",
       "      <td>...</td>\n",
       "      <td>NaN</td>\n",
       "      <td>NaN</td>\n",
       "      <td>NaN</td>\n",
       "      <td>NaN</td>\n",
       "      <td>0.0</td>\n",
       "      <td>0.0</td>\n",
       "      <td>NaN</td>\n",
       "      <td>NaN</td>\n",
       "      <td>NaN</td>\n",
       "      <td>NaN</td>\n",
       "    </tr>\n",
       "    <tr>\n",
       "      <th>3</th>\n",
       "      <td>1076863</td>\n",
       "      <td>1277178</td>\n",
       "      <td>10000</td>\n",
       "      <td>10000</td>\n",
       "      <td>10000.0</td>\n",
       "      <td>36 months</td>\n",
       "      <td>13.49%</td>\n",
       "      <td>339.31</td>\n",
       "      <td>C</td>\n",
       "      <td>C1</td>\n",
       "      <td>...</td>\n",
       "      <td>NaN</td>\n",
       "      <td>NaN</td>\n",
       "      <td>NaN</td>\n",
       "      <td>NaN</td>\n",
       "      <td>0.0</td>\n",
       "      <td>0.0</td>\n",
       "      <td>NaN</td>\n",
       "      <td>NaN</td>\n",
       "      <td>NaN</td>\n",
       "      <td>NaN</td>\n",
       "    </tr>\n",
       "    <tr>\n",
       "      <th>4</th>\n",
       "      <td>1075358</td>\n",
       "      <td>1311748</td>\n",
       "      <td>3000</td>\n",
       "      <td>3000</td>\n",
       "      <td>3000.0</td>\n",
       "      <td>60 months</td>\n",
       "      <td>12.69%</td>\n",
       "      <td>67.79</td>\n",
       "      <td>B</td>\n",
       "      <td>B5</td>\n",
       "      <td>...</td>\n",
       "      <td>NaN</td>\n",
       "      <td>NaN</td>\n",
       "      <td>NaN</td>\n",
       "      <td>NaN</td>\n",
       "      <td>0.0</td>\n",
       "      <td>0.0</td>\n",
       "      <td>NaN</td>\n",
       "      <td>NaN</td>\n",
       "      <td>NaN</td>\n",
       "      <td>NaN</td>\n",
       "    </tr>\n",
       "  </tbody>\n",
       "</table>\n",
       "<p>5 rows × 111 columns</p>\n",
       "</div>"
      ],
      "text/plain": [
       "        id  member_id  loan_amnt  funded_amnt  funded_amnt_inv        term  \\\n",
       "0  1077501    1296599       5000         5000           4975.0   36 months   \n",
       "1  1077430    1314167       2500         2500           2500.0   60 months   \n",
       "2  1077175    1313524       2400         2400           2400.0   36 months   \n",
       "3  1076863    1277178      10000        10000          10000.0   36 months   \n",
       "4  1075358    1311748       3000         3000           3000.0   60 months   \n",
       "\n",
       "  int_rate  installment grade sub_grade  ... num_tl_90g_dpd_24m  \\\n",
       "0   10.65%       162.87     B        B2  ...                NaN   \n",
       "1   15.27%        59.83     C        C4  ...                NaN   \n",
       "2   15.96%        84.33     C        C5  ...                NaN   \n",
       "3   13.49%       339.31     C        C1  ...                NaN   \n",
       "4   12.69%        67.79     B        B5  ...                NaN   \n",
       "\n",
       "  num_tl_op_past_12m pct_tl_nvr_dlq  percent_bc_gt_75 pub_rec_bankruptcies  \\\n",
       "0                NaN            NaN               NaN                  0.0   \n",
       "1                NaN            NaN               NaN                  0.0   \n",
       "2                NaN            NaN               NaN                  0.0   \n",
       "3                NaN            NaN               NaN                  0.0   \n",
       "4                NaN            NaN               NaN                  0.0   \n",
       "\n",
       "  tax_liens tot_hi_cred_lim total_bal_ex_mort total_bc_limit  \\\n",
       "0       0.0             NaN               NaN            NaN   \n",
       "1       0.0             NaN               NaN            NaN   \n",
       "2       0.0             NaN               NaN            NaN   \n",
       "3       0.0             NaN               NaN            NaN   \n",
       "4       0.0             NaN               NaN            NaN   \n",
       "\n",
       "  total_il_high_credit_limit  \n",
       "0                        NaN  \n",
       "1                        NaN  \n",
       "2                        NaN  \n",
       "3                        NaN  \n",
       "4                        NaN  \n",
       "\n",
       "[5 rows x 111 columns]"
      ]
     },
     "execution_count": 3,
     "metadata": {},
     "output_type": "execute_result"
    }
   ],
   "source": [
    "#import pandas library to read csv data\n",
    "import pandas as pd\n",
    "\n",
    "#read the file using read_csv and create a dataframe\n",
    "loan = pd.read_csv('loan.csv')\n",
    "\n",
    "#Display first 5 rows, to get an idea what data looks like\n",
    "loan.head()"
   ]
  },
  {
   "cell_type": "markdown",
   "id": "36796a7a",
   "metadata": {},
   "source": [
    "## Understand the data via data dictionary\n",
    "\n",
    "\n",
    "### Notes from the DataDictionary:\n",
    "- **Reject Stats** has dictionary about the loans that were rejected, we don't have data for it, so we can ignore it\n",
    "\n",
    "- **Loan Stats** has 115 variables. Here are some broad categories at first look at the data dictionary.\n",
    "\n",
    "    - _ID_ variables : Unique values assinged to loan listing and customer.\n",
    "    - _application_type, policy code_ : will be useful in segregating the data.\n",
    "    - *Customer* Employment, Income/verification status, home ownership, Address State, Zipcode,title : to categorise customers\n",
    "    - *Loan* amount, , interest rate, installment, purpose, term : To categorise loan\n",
    "    - *Number* of accounts based on different types : we can try checking if this has a relation with loan repayment.\n",
    "    - Variables related to *chargeoff*, balance, FICO, loan status, grade, mortgage, dti (dept payment/income ratio), outstanding principal bankruptcies etc. : these can indicate directly about loan repayment of a customer.\n",
    "    Loan status will be used to get suset of data relevent for our study, we can ignore the current borrowers.\n",
    "    - *Collection*, payment realted, Percent of trader never delinquent, recoveries, delinquency, Balance : These also look like current borrowers variable, if so we can ignore them as well.\n",
    "    - *Months since* different activities were carried out by a customer : It may also not be an important factor for our study.\n",
    "    - *Aggregate(Total)* of different values (like balance, collections, Interest, Late fees) etc. These are mostly realted to current borrower again.\n",
    "    \n",
    "#### This way it becomes easy to get an overall idea about the kind of data we have and what data is relevant for our study.\n",
    "\n",
    "Important variable to look out will be ids, loan status, Grade, SubGrade, Customer, loan info etc."
   ]
  },
  {
   "cell_type": "markdown",
   "id": "f45392f5",
   "metadata": {},
   "source": [
    "### First lets clean the data\n",
    "\n",
    "1. Drop Nulls"
   ]
  },
  {
   "cell_type": "code",
   "execution_count": 4,
   "id": "09ad4e2e",
   "metadata": {},
   "outputs": [
    {
     "data": {
      "text/html": [
       "<div>\n",
       "<style scoped>\n",
       "    .dataframe tbody tr th:only-of-type {\n",
       "        vertical-align: middle;\n",
       "    }\n",
       "\n",
       "    .dataframe tbody tr th {\n",
       "        vertical-align: top;\n",
       "    }\n",
       "\n",
       "    .dataframe thead th {\n",
       "        text-align: right;\n",
       "    }\n",
       "</style>\n",
       "<table border=\"1\" class=\"dataframe\">\n",
       "  <thead>\n",
       "    <tr style=\"text-align: right;\">\n",
       "      <th></th>\n",
       "      <th>id</th>\n",
       "      <th>member_id</th>\n",
       "      <th>loan_amnt</th>\n",
       "      <th>funded_amnt</th>\n",
       "      <th>funded_amnt_inv</th>\n",
       "      <th>installment</th>\n",
       "      <th>annual_inc</th>\n",
       "      <th>dti</th>\n",
       "      <th>delinq_2yrs</th>\n",
       "      <th>inq_last_6mths</th>\n",
       "      <th>...</th>\n",
       "      <th>num_tl_90g_dpd_24m</th>\n",
       "      <th>num_tl_op_past_12m</th>\n",
       "      <th>pct_tl_nvr_dlq</th>\n",
       "      <th>percent_bc_gt_75</th>\n",
       "      <th>pub_rec_bankruptcies</th>\n",
       "      <th>tax_liens</th>\n",
       "      <th>tot_hi_cred_lim</th>\n",
       "      <th>total_bal_ex_mort</th>\n",
       "      <th>total_bc_limit</th>\n",
       "      <th>total_il_high_credit_limit</th>\n",
       "    </tr>\n",
       "  </thead>\n",
       "  <tbody>\n",
       "    <tr>\n",
       "      <th>count</th>\n",
       "      <td>3.971700e+04</td>\n",
       "      <td>3.971700e+04</td>\n",
       "      <td>39717.000000</td>\n",
       "      <td>39717.000000</td>\n",
       "      <td>39717.000000</td>\n",
       "      <td>39717.000000</td>\n",
       "      <td>3.971700e+04</td>\n",
       "      <td>39717.000000</td>\n",
       "      <td>39717.000000</td>\n",
       "      <td>39717.000000</td>\n",
       "      <td>...</td>\n",
       "      <td>0.0</td>\n",
       "      <td>0.0</td>\n",
       "      <td>0.0</td>\n",
       "      <td>0.0</td>\n",
       "      <td>39020.000000</td>\n",
       "      <td>39678.0</td>\n",
       "      <td>0.0</td>\n",
       "      <td>0.0</td>\n",
       "      <td>0.0</td>\n",
       "      <td>0.0</td>\n",
       "    </tr>\n",
       "    <tr>\n",
       "      <th>mean</th>\n",
       "      <td>6.831319e+05</td>\n",
       "      <td>8.504636e+05</td>\n",
       "      <td>11219.443815</td>\n",
       "      <td>10947.713196</td>\n",
       "      <td>10397.448868</td>\n",
       "      <td>324.561922</td>\n",
       "      <td>6.896893e+04</td>\n",
       "      <td>13.315130</td>\n",
       "      <td>0.146512</td>\n",
       "      <td>0.869200</td>\n",
       "      <td>...</td>\n",
       "      <td>NaN</td>\n",
       "      <td>NaN</td>\n",
       "      <td>NaN</td>\n",
       "      <td>NaN</td>\n",
       "      <td>0.043260</td>\n",
       "      <td>0.0</td>\n",
       "      <td>NaN</td>\n",
       "      <td>NaN</td>\n",
       "      <td>NaN</td>\n",
       "      <td>NaN</td>\n",
       "    </tr>\n",
       "    <tr>\n",
       "      <th>std</th>\n",
       "      <td>2.106941e+05</td>\n",
       "      <td>2.656783e+05</td>\n",
       "      <td>7456.670694</td>\n",
       "      <td>7187.238670</td>\n",
       "      <td>7128.450439</td>\n",
       "      <td>208.874874</td>\n",
       "      <td>6.379377e+04</td>\n",
       "      <td>6.678594</td>\n",
       "      <td>0.491812</td>\n",
       "      <td>1.070219</td>\n",
       "      <td>...</td>\n",
       "      <td>NaN</td>\n",
       "      <td>NaN</td>\n",
       "      <td>NaN</td>\n",
       "      <td>NaN</td>\n",
       "      <td>0.204324</td>\n",
       "      <td>0.0</td>\n",
       "      <td>NaN</td>\n",
       "      <td>NaN</td>\n",
       "      <td>NaN</td>\n",
       "      <td>NaN</td>\n",
       "    </tr>\n",
       "    <tr>\n",
       "      <th>min</th>\n",
       "      <td>5.473400e+04</td>\n",
       "      <td>7.069900e+04</td>\n",
       "      <td>500.000000</td>\n",
       "      <td>500.000000</td>\n",
       "      <td>0.000000</td>\n",
       "      <td>15.690000</td>\n",
       "      <td>4.000000e+03</td>\n",
       "      <td>0.000000</td>\n",
       "      <td>0.000000</td>\n",
       "      <td>0.000000</td>\n",
       "      <td>...</td>\n",
       "      <td>NaN</td>\n",
       "      <td>NaN</td>\n",
       "      <td>NaN</td>\n",
       "      <td>NaN</td>\n",
       "      <td>0.000000</td>\n",
       "      <td>0.0</td>\n",
       "      <td>NaN</td>\n",
       "      <td>NaN</td>\n",
       "      <td>NaN</td>\n",
       "      <td>NaN</td>\n",
       "    </tr>\n",
       "    <tr>\n",
       "      <th>25%</th>\n",
       "      <td>5.162210e+05</td>\n",
       "      <td>6.667800e+05</td>\n",
       "      <td>5500.000000</td>\n",
       "      <td>5400.000000</td>\n",
       "      <td>5000.000000</td>\n",
       "      <td>167.020000</td>\n",
       "      <td>4.040400e+04</td>\n",
       "      <td>8.170000</td>\n",
       "      <td>0.000000</td>\n",
       "      <td>0.000000</td>\n",
       "      <td>...</td>\n",
       "      <td>NaN</td>\n",
       "      <td>NaN</td>\n",
       "      <td>NaN</td>\n",
       "      <td>NaN</td>\n",
       "      <td>0.000000</td>\n",
       "      <td>0.0</td>\n",
       "      <td>NaN</td>\n",
       "      <td>NaN</td>\n",
       "      <td>NaN</td>\n",
       "      <td>NaN</td>\n",
       "    </tr>\n",
       "    <tr>\n",
       "      <th>50%</th>\n",
       "      <td>6.656650e+05</td>\n",
       "      <td>8.508120e+05</td>\n",
       "      <td>10000.000000</td>\n",
       "      <td>9600.000000</td>\n",
       "      <td>8975.000000</td>\n",
       "      <td>280.220000</td>\n",
       "      <td>5.900000e+04</td>\n",
       "      <td>13.400000</td>\n",
       "      <td>0.000000</td>\n",
       "      <td>1.000000</td>\n",
       "      <td>...</td>\n",
       "      <td>NaN</td>\n",
       "      <td>NaN</td>\n",
       "      <td>NaN</td>\n",
       "      <td>NaN</td>\n",
       "      <td>0.000000</td>\n",
       "      <td>0.0</td>\n",
       "      <td>NaN</td>\n",
       "      <td>NaN</td>\n",
       "      <td>NaN</td>\n",
       "      <td>NaN</td>\n",
       "    </tr>\n",
       "    <tr>\n",
       "      <th>75%</th>\n",
       "      <td>8.377550e+05</td>\n",
       "      <td>1.047339e+06</td>\n",
       "      <td>15000.000000</td>\n",
       "      <td>15000.000000</td>\n",
       "      <td>14400.000000</td>\n",
       "      <td>430.780000</td>\n",
       "      <td>8.230000e+04</td>\n",
       "      <td>18.600000</td>\n",
       "      <td>0.000000</td>\n",
       "      <td>1.000000</td>\n",
       "      <td>...</td>\n",
       "      <td>NaN</td>\n",
       "      <td>NaN</td>\n",
       "      <td>NaN</td>\n",
       "      <td>NaN</td>\n",
       "      <td>0.000000</td>\n",
       "      <td>0.0</td>\n",
       "      <td>NaN</td>\n",
       "      <td>NaN</td>\n",
       "      <td>NaN</td>\n",
       "      <td>NaN</td>\n",
       "    </tr>\n",
       "    <tr>\n",
       "      <th>max</th>\n",
       "      <td>1.077501e+06</td>\n",
       "      <td>1.314167e+06</td>\n",
       "      <td>35000.000000</td>\n",
       "      <td>35000.000000</td>\n",
       "      <td>35000.000000</td>\n",
       "      <td>1305.190000</td>\n",
       "      <td>6.000000e+06</td>\n",
       "      <td>29.990000</td>\n",
       "      <td>11.000000</td>\n",
       "      <td>8.000000</td>\n",
       "      <td>...</td>\n",
       "      <td>NaN</td>\n",
       "      <td>NaN</td>\n",
       "      <td>NaN</td>\n",
       "      <td>NaN</td>\n",
       "      <td>2.000000</td>\n",
       "      <td>0.0</td>\n",
       "      <td>NaN</td>\n",
       "      <td>NaN</td>\n",
       "      <td>NaN</td>\n",
       "      <td>NaN</td>\n",
       "    </tr>\n",
       "  </tbody>\n",
       "</table>\n",
       "<p>8 rows × 87 columns</p>\n",
       "</div>"
      ],
      "text/plain": [
       "                 id     member_id     loan_amnt   funded_amnt  \\\n",
       "count  3.971700e+04  3.971700e+04  39717.000000  39717.000000   \n",
       "mean   6.831319e+05  8.504636e+05  11219.443815  10947.713196   \n",
       "std    2.106941e+05  2.656783e+05   7456.670694   7187.238670   \n",
       "min    5.473400e+04  7.069900e+04    500.000000    500.000000   \n",
       "25%    5.162210e+05  6.667800e+05   5500.000000   5400.000000   \n",
       "50%    6.656650e+05  8.508120e+05  10000.000000   9600.000000   \n",
       "75%    8.377550e+05  1.047339e+06  15000.000000  15000.000000   \n",
       "max    1.077501e+06  1.314167e+06  35000.000000  35000.000000   \n",
       "\n",
       "       funded_amnt_inv   installment    annual_inc           dti  \\\n",
       "count     39717.000000  39717.000000  3.971700e+04  39717.000000   \n",
       "mean      10397.448868    324.561922  6.896893e+04     13.315130   \n",
       "std        7128.450439    208.874874  6.379377e+04      6.678594   \n",
       "min           0.000000     15.690000  4.000000e+03      0.000000   \n",
       "25%        5000.000000    167.020000  4.040400e+04      8.170000   \n",
       "50%        8975.000000    280.220000  5.900000e+04     13.400000   \n",
       "75%       14400.000000    430.780000  8.230000e+04     18.600000   \n",
       "max       35000.000000   1305.190000  6.000000e+06     29.990000   \n",
       "\n",
       "        delinq_2yrs  inq_last_6mths  ...  num_tl_90g_dpd_24m  \\\n",
       "count  39717.000000    39717.000000  ...                 0.0   \n",
       "mean       0.146512        0.869200  ...                 NaN   \n",
       "std        0.491812        1.070219  ...                 NaN   \n",
       "min        0.000000        0.000000  ...                 NaN   \n",
       "25%        0.000000        0.000000  ...                 NaN   \n",
       "50%        0.000000        1.000000  ...                 NaN   \n",
       "75%        0.000000        1.000000  ...                 NaN   \n",
       "max       11.000000        8.000000  ...                 NaN   \n",
       "\n",
       "       num_tl_op_past_12m  pct_tl_nvr_dlq  percent_bc_gt_75  \\\n",
       "count                 0.0             0.0               0.0   \n",
       "mean                  NaN             NaN               NaN   \n",
       "std                   NaN             NaN               NaN   \n",
       "min                   NaN             NaN               NaN   \n",
       "25%                   NaN             NaN               NaN   \n",
       "50%                   NaN             NaN               NaN   \n",
       "75%                   NaN             NaN               NaN   \n",
       "max                   NaN             NaN               NaN   \n",
       "\n",
       "       pub_rec_bankruptcies  tax_liens  tot_hi_cred_lim  total_bal_ex_mort  \\\n",
       "count          39020.000000    39678.0              0.0                0.0   \n",
       "mean               0.043260        0.0              NaN                NaN   \n",
       "std                0.204324        0.0              NaN                NaN   \n",
       "min                0.000000        0.0              NaN                NaN   \n",
       "25%                0.000000        0.0              NaN                NaN   \n",
       "50%                0.000000        0.0              NaN                NaN   \n",
       "75%                0.000000        0.0              NaN                NaN   \n",
       "max                2.000000        0.0              NaN                NaN   \n",
       "\n",
       "       total_bc_limit  total_il_high_credit_limit  \n",
       "count             0.0                         0.0  \n",
       "mean              NaN                         NaN  \n",
       "std               NaN                         NaN  \n",
       "min               NaN                         NaN  \n",
       "25%               NaN                         NaN  \n",
       "50%               NaN                         NaN  \n",
       "75%               NaN                         NaN  \n",
       "max               NaN                         NaN  \n",
       "\n",
       "[8 rows x 87 columns]"
      ]
     },
     "execution_count": 4,
     "metadata": {},
     "output_type": "execute_result"
    }
   ],
   "source": [
    "#Lets see how many nulls or missing records we have\n",
    "loan.describe()"
   ]
  },
  {
   "cell_type": "code",
   "execution_count": 5,
   "id": "ac138ec7",
   "metadata": {},
   "outputs": [
    {
     "name": "stdout",
     "output_type": "stream",
     "text": [
      "Total rows,columns = (39717, 111)\n"
     ]
    },
    {
     "data": {
      "text/plain": [
       "id                                0\n",
       "member_id                         0\n",
       "loan_amnt                         0\n",
       "funded_amnt                       0\n",
       "funded_amnt_inv                   0\n",
       "                              ...  \n",
       "tax_liens                        39\n",
       "tot_hi_cred_lim               39717\n",
       "total_bal_ex_mort             39717\n",
       "total_bc_limit                39717\n",
       "total_il_high_credit_limit    39717\n",
       "Length: 111, dtype: int64"
      ]
     },
     "execution_count": 5,
     "metadata": {},
     "output_type": "execute_result"
    }
   ],
   "source": [
    "# As there are many fields with Null data, we will check if they can be dropped if significant %age of data is missing.\n",
    "print('Total rows,columns =',loan.shape)\n",
    "\n",
    "loan[loan.columns].isnull().sum()\n"
   ]
  },
  {
   "cell_type": "code",
   "execution_count": 7,
   "id": "8281c612",
   "metadata": {},
   "outputs": [],
   "source": [
    "# Drop columns which are nulls\n",
    "loan_drop1=loan.dropna(how='all',axis=1)"
   ]
  },
  {
   "cell_type": "code",
   "execution_count": 183,
   "id": "32690c20",
   "metadata": {},
   "outputs": [
    {
     "data": {
      "text/plain": [
       "(39717, 57)"
      ]
     },
     "execution_count": 183,
     "metadata": {},
     "output_type": "execute_result"
    }
   ],
   "source": [
    "# Check number of columns after dropping the nulls\n",
    "loan_drop1.shape\n",
    "\n",
    "#57/111 are useful now, this has reduced the data to be analysed by almost 50%"
   ]
  },
  {
   "cell_type": "code",
   "execution_count": 186,
   "id": "f314ce95",
   "metadata": {},
   "outputs": [
    {
     "data": {
      "text/html": [
       "<div>\n",
       "<style scoped>\n",
       "    .dataframe tbody tr th:only-of-type {\n",
       "        vertical-align: middle;\n",
       "    }\n",
       "\n",
       "    .dataframe tbody tr th {\n",
       "        vertical-align: top;\n",
       "    }\n",
       "\n",
       "    .dataframe thead th {\n",
       "        text-align: right;\n",
       "    }\n",
       "</style>\n",
       "<table border=\"1\" class=\"dataframe\">\n",
       "  <thead>\n",
       "    <tr style=\"text-align: right;\">\n",
       "      <th></th>\n",
       "      <th>id</th>\n",
       "      <th>member_id</th>\n",
       "      <th>loan_amnt</th>\n",
       "      <th>funded_amnt</th>\n",
       "      <th>funded_amnt_inv</th>\n",
       "      <th>installment</th>\n",
       "      <th>annual_inc</th>\n",
       "      <th>dti</th>\n",
       "      <th>delinq_2yrs</th>\n",
       "      <th>inq_last_6mths</th>\n",
       "      <th>...</th>\n",
       "      <th>recoveries</th>\n",
       "      <th>collection_recovery_fee</th>\n",
       "      <th>last_pymnt_amnt</th>\n",
       "      <th>collections_12_mths_ex_med</th>\n",
       "      <th>policy_code</th>\n",
       "      <th>acc_now_delinq</th>\n",
       "      <th>chargeoff_within_12_mths</th>\n",
       "      <th>delinq_amnt</th>\n",
       "      <th>pub_rec_bankruptcies</th>\n",
       "      <th>tax_liens</th>\n",
       "    </tr>\n",
       "  </thead>\n",
       "  <tbody>\n",
       "    <tr>\n",
       "      <th>count</th>\n",
       "      <td>3.971700e+04</td>\n",
       "      <td>3.971700e+04</td>\n",
       "      <td>39717.000000</td>\n",
       "      <td>39717.000000</td>\n",
       "      <td>39717.000000</td>\n",
       "      <td>39717.000000</td>\n",
       "      <td>3.971700e+04</td>\n",
       "      <td>39717.000000</td>\n",
       "      <td>39717.000000</td>\n",
       "      <td>39717.000000</td>\n",
       "      <td>...</td>\n",
       "      <td>39717.000000</td>\n",
       "      <td>39717.000000</td>\n",
       "      <td>39717.000000</td>\n",
       "      <td>39661.0</td>\n",
       "      <td>39717.0</td>\n",
       "      <td>39717.0</td>\n",
       "      <td>39661.0</td>\n",
       "      <td>39717.0</td>\n",
       "      <td>39020.000000</td>\n",
       "      <td>39678.0</td>\n",
       "    </tr>\n",
       "    <tr>\n",
       "      <th>mean</th>\n",
       "      <td>6.831319e+05</td>\n",
       "      <td>8.504636e+05</td>\n",
       "      <td>11219.443815</td>\n",
       "      <td>10947.713196</td>\n",
       "      <td>10397.448868</td>\n",
       "      <td>324.561922</td>\n",
       "      <td>6.896893e+04</td>\n",
       "      <td>13.315130</td>\n",
       "      <td>0.146512</td>\n",
       "      <td>0.869200</td>\n",
       "      <td>...</td>\n",
       "      <td>95.221624</td>\n",
       "      <td>12.406112</td>\n",
       "      <td>2678.826162</td>\n",
       "      <td>0.0</td>\n",
       "      <td>1.0</td>\n",
       "      <td>0.0</td>\n",
       "      <td>0.0</td>\n",
       "      <td>0.0</td>\n",
       "      <td>0.043260</td>\n",
       "      <td>0.0</td>\n",
       "    </tr>\n",
       "    <tr>\n",
       "      <th>std</th>\n",
       "      <td>2.106941e+05</td>\n",
       "      <td>2.656783e+05</td>\n",
       "      <td>7456.670694</td>\n",
       "      <td>7187.238670</td>\n",
       "      <td>7128.450439</td>\n",
       "      <td>208.874874</td>\n",
       "      <td>6.379377e+04</td>\n",
       "      <td>6.678594</td>\n",
       "      <td>0.491812</td>\n",
       "      <td>1.070219</td>\n",
       "      <td>...</td>\n",
       "      <td>688.744771</td>\n",
       "      <td>148.671593</td>\n",
       "      <td>4447.136012</td>\n",
       "      <td>0.0</td>\n",
       "      <td>0.0</td>\n",
       "      <td>0.0</td>\n",
       "      <td>0.0</td>\n",
       "      <td>0.0</td>\n",
       "      <td>0.204324</td>\n",
       "      <td>0.0</td>\n",
       "    </tr>\n",
       "    <tr>\n",
       "      <th>min</th>\n",
       "      <td>5.473400e+04</td>\n",
       "      <td>7.069900e+04</td>\n",
       "      <td>500.000000</td>\n",
       "      <td>500.000000</td>\n",
       "      <td>0.000000</td>\n",
       "      <td>15.690000</td>\n",
       "      <td>4.000000e+03</td>\n",
       "      <td>0.000000</td>\n",
       "      <td>0.000000</td>\n",
       "      <td>0.000000</td>\n",
       "      <td>...</td>\n",
       "      <td>0.000000</td>\n",
       "      <td>0.000000</td>\n",
       "      <td>0.000000</td>\n",
       "      <td>0.0</td>\n",
       "      <td>1.0</td>\n",
       "      <td>0.0</td>\n",
       "      <td>0.0</td>\n",
       "      <td>0.0</td>\n",
       "      <td>0.000000</td>\n",
       "      <td>0.0</td>\n",
       "    </tr>\n",
       "    <tr>\n",
       "      <th>25%</th>\n",
       "      <td>5.162210e+05</td>\n",
       "      <td>6.667800e+05</td>\n",
       "      <td>5500.000000</td>\n",
       "      <td>5400.000000</td>\n",
       "      <td>5000.000000</td>\n",
       "      <td>167.020000</td>\n",
       "      <td>4.040400e+04</td>\n",
       "      <td>8.170000</td>\n",
       "      <td>0.000000</td>\n",
       "      <td>0.000000</td>\n",
       "      <td>...</td>\n",
       "      <td>0.000000</td>\n",
       "      <td>0.000000</td>\n",
       "      <td>218.680000</td>\n",
       "      <td>0.0</td>\n",
       "      <td>1.0</td>\n",
       "      <td>0.0</td>\n",
       "      <td>0.0</td>\n",
       "      <td>0.0</td>\n",
       "      <td>0.000000</td>\n",
       "      <td>0.0</td>\n",
       "    </tr>\n",
       "    <tr>\n",
       "      <th>50%</th>\n",
       "      <td>6.656650e+05</td>\n",
       "      <td>8.508120e+05</td>\n",
       "      <td>10000.000000</td>\n",
       "      <td>9600.000000</td>\n",
       "      <td>8975.000000</td>\n",
       "      <td>280.220000</td>\n",
       "      <td>5.900000e+04</td>\n",
       "      <td>13.400000</td>\n",
       "      <td>0.000000</td>\n",
       "      <td>1.000000</td>\n",
       "      <td>...</td>\n",
       "      <td>0.000000</td>\n",
       "      <td>0.000000</td>\n",
       "      <td>546.140000</td>\n",
       "      <td>0.0</td>\n",
       "      <td>1.0</td>\n",
       "      <td>0.0</td>\n",
       "      <td>0.0</td>\n",
       "      <td>0.0</td>\n",
       "      <td>0.000000</td>\n",
       "      <td>0.0</td>\n",
       "    </tr>\n",
       "    <tr>\n",
       "      <th>75%</th>\n",
       "      <td>8.377550e+05</td>\n",
       "      <td>1.047339e+06</td>\n",
       "      <td>15000.000000</td>\n",
       "      <td>15000.000000</td>\n",
       "      <td>14400.000000</td>\n",
       "      <td>430.780000</td>\n",
       "      <td>8.230000e+04</td>\n",
       "      <td>18.600000</td>\n",
       "      <td>0.000000</td>\n",
       "      <td>1.000000</td>\n",
       "      <td>...</td>\n",
       "      <td>0.000000</td>\n",
       "      <td>0.000000</td>\n",
       "      <td>3293.160000</td>\n",
       "      <td>0.0</td>\n",
       "      <td>1.0</td>\n",
       "      <td>0.0</td>\n",
       "      <td>0.0</td>\n",
       "      <td>0.0</td>\n",
       "      <td>0.000000</td>\n",
       "      <td>0.0</td>\n",
       "    </tr>\n",
       "    <tr>\n",
       "      <th>max</th>\n",
       "      <td>1.077501e+06</td>\n",
       "      <td>1.314167e+06</td>\n",
       "      <td>35000.000000</td>\n",
       "      <td>35000.000000</td>\n",
       "      <td>35000.000000</td>\n",
       "      <td>1305.190000</td>\n",
       "      <td>6.000000e+06</td>\n",
       "      <td>29.990000</td>\n",
       "      <td>11.000000</td>\n",
       "      <td>8.000000</td>\n",
       "      <td>...</td>\n",
       "      <td>29623.350000</td>\n",
       "      <td>7002.190000</td>\n",
       "      <td>36115.200000</td>\n",
       "      <td>0.0</td>\n",
       "      <td>1.0</td>\n",
       "      <td>0.0</td>\n",
       "      <td>0.0</td>\n",
       "      <td>0.0</td>\n",
       "      <td>2.000000</td>\n",
       "      <td>0.0</td>\n",
       "    </tr>\n",
       "  </tbody>\n",
       "</table>\n",
       "<p>8 rows × 33 columns</p>\n",
       "</div>"
      ],
      "text/plain": [
       "                 id     member_id     loan_amnt   funded_amnt  \\\n",
       "count  3.971700e+04  3.971700e+04  39717.000000  39717.000000   \n",
       "mean   6.831319e+05  8.504636e+05  11219.443815  10947.713196   \n",
       "std    2.106941e+05  2.656783e+05   7456.670694   7187.238670   \n",
       "min    5.473400e+04  7.069900e+04    500.000000    500.000000   \n",
       "25%    5.162210e+05  6.667800e+05   5500.000000   5400.000000   \n",
       "50%    6.656650e+05  8.508120e+05  10000.000000   9600.000000   \n",
       "75%    8.377550e+05  1.047339e+06  15000.000000  15000.000000   \n",
       "max    1.077501e+06  1.314167e+06  35000.000000  35000.000000   \n",
       "\n",
       "       funded_amnt_inv   installment    annual_inc           dti  \\\n",
       "count     39717.000000  39717.000000  3.971700e+04  39717.000000   \n",
       "mean      10397.448868    324.561922  6.896893e+04     13.315130   \n",
       "std        7128.450439    208.874874  6.379377e+04      6.678594   \n",
       "min           0.000000     15.690000  4.000000e+03      0.000000   \n",
       "25%        5000.000000    167.020000  4.040400e+04      8.170000   \n",
       "50%        8975.000000    280.220000  5.900000e+04     13.400000   \n",
       "75%       14400.000000    430.780000  8.230000e+04     18.600000   \n",
       "max       35000.000000   1305.190000  6.000000e+06     29.990000   \n",
       "\n",
       "        delinq_2yrs  inq_last_6mths  ...    recoveries  \\\n",
       "count  39717.000000    39717.000000  ...  39717.000000   \n",
       "mean       0.146512        0.869200  ...     95.221624   \n",
       "std        0.491812        1.070219  ...    688.744771   \n",
       "min        0.000000        0.000000  ...      0.000000   \n",
       "25%        0.000000        0.000000  ...      0.000000   \n",
       "50%        0.000000        1.000000  ...      0.000000   \n",
       "75%        0.000000        1.000000  ...      0.000000   \n",
       "max       11.000000        8.000000  ...  29623.350000   \n",
       "\n",
       "       collection_recovery_fee  last_pymnt_amnt  collections_12_mths_ex_med  \\\n",
       "count             39717.000000     39717.000000                     39661.0   \n",
       "mean                 12.406112      2678.826162                         0.0   \n",
       "std                 148.671593      4447.136012                         0.0   \n",
       "min                   0.000000         0.000000                         0.0   \n",
       "25%                   0.000000       218.680000                         0.0   \n",
       "50%                   0.000000       546.140000                         0.0   \n",
       "75%                   0.000000      3293.160000                         0.0   \n",
       "max                7002.190000     36115.200000                         0.0   \n",
       "\n",
       "       policy_code  acc_now_delinq  chargeoff_within_12_mths  delinq_amnt  \\\n",
       "count      39717.0         39717.0                   39661.0      39717.0   \n",
       "mean           1.0             0.0                       0.0          0.0   \n",
       "std            0.0             0.0                       0.0          0.0   \n",
       "min            1.0             0.0                       0.0          0.0   \n",
       "25%            1.0             0.0                       0.0          0.0   \n",
       "50%            1.0             0.0                       0.0          0.0   \n",
       "75%            1.0             0.0                       0.0          0.0   \n",
       "max            1.0             0.0                       0.0          0.0   \n",
       "\n",
       "       pub_rec_bankruptcies  tax_liens  \n",
       "count          39020.000000    39678.0  \n",
       "mean               0.043260        0.0  \n",
       "std                0.204324        0.0  \n",
       "min                0.000000        0.0  \n",
       "25%                0.000000        0.0  \n",
       "50%                0.000000        0.0  \n",
       "75%                0.000000        0.0  \n",
       "max                2.000000        0.0  \n",
       "\n",
       "[8 rows x 33 columns]"
      ]
     },
     "execution_count": 186,
     "metadata": {},
     "output_type": "execute_result"
    }
   ],
   "source": [
    "# Let's see if we still have nulls\n",
    "loan_drop1.describe()"
   ]
  },
  {
   "cell_type": "code",
   "execution_count": 8,
   "id": "af5902bb",
   "metadata": {},
   "outputs": [
    {
     "data": {
      "text/plain": [
       "next_pymnt_d                  38577\n",
       "mths_since_last_record        36931\n",
       "mths_since_last_delinq        25682\n",
       "desc                          12940\n",
       "emp_title                      2459\n",
       "emp_length                     1075\n",
       "pub_rec_bankruptcies            697\n",
       "last_pymnt_d                     71\n",
       "chargeoff_within_12_mths         56\n",
       "collections_12_mths_ex_med       56\n",
       "revol_util                       50\n",
       "tax_liens                        39\n",
       "title                            11\n",
       "last_credit_pull_d                2\n",
       "home_ownership                    0\n",
       "int_rate                          0\n",
       "out_prncp_inv                     0\n",
       "total_pymnt                       0\n",
       "total_pymnt_inv                   0\n",
       "total_rec_prncp                   0\n",
       "total_rec_int                     0\n",
       "total_rec_late_fee                0\n",
       "recoveries                        0\n",
       "collection_recovery_fee           0\n",
       "term                              0\n",
       "last_pymnt_amnt                   0\n",
       "initial_list_status               0\n",
       "funded_amnt_inv                   0\n",
       "policy_code                       0\n",
       "application_type                  0\n",
       "acc_now_delinq                    0\n",
       "funded_amnt                       0\n",
       "delinq_amnt                       0\n",
       "loan_amnt                         0\n",
       "out_prncp                         0\n",
       "total_acc                         0\n",
       "annual_inc                        0\n",
       "addr_state                        0\n",
       "verification_status               0\n",
       "issue_d                           0\n",
       "loan_status                       0\n",
       "pymnt_plan                        0\n",
       "url                               0\n",
       "sub_grade                         0\n",
       "purpose                           0\n",
       "zip_code                          0\n",
       "dti                               0\n",
       "installment                       0\n",
       "delinq_2yrs                       0\n",
       "earliest_cr_line                  0\n",
       "inq_last_6mths                    0\n",
       "member_id                         0\n",
       "grade                             0\n",
       "open_acc                          0\n",
       "pub_rec                           0\n",
       "revol_bal                         0\n",
       "id                                0\n",
       "dtype: int64"
      ]
     },
     "execution_count": 8,
     "metadata": {},
     "output_type": "execute_result"
    }
   ],
   "source": [
    "loan_drop1[loan_drop1.columns].isnull().sum().sort_values(ascending=False)"
   ]
  },
  {
   "cell_type": "code",
   "execution_count": 9,
   "id": "293c99eb",
   "metadata": {},
   "outputs": [],
   "source": [
    "# Still there are columns with most data as nulls, lets drop first 3 columns too\n",
    "loan_drop2=loan_drop1.drop(columns=['next_pymnt_d','mths_since_last_record','mths_since_last_delinq'])"
   ]
  },
  {
   "cell_type": "code",
   "execution_count": 201,
   "id": "8bab5412",
   "metadata": {},
   "outputs": [
    {
     "data": {
      "text/plain": [
       "(39717, 54)"
      ]
     },
     "execution_count": 201,
     "metadata": {},
     "output_type": "execute_result"
    }
   ],
   "source": [
    "loan_drop2.shape"
   ]
  },
  {
   "cell_type": "markdown",
   "id": "0191ef2f",
   "metadata": {},
   "source": [
    "2. Drop rows with all nulls"
   ]
  },
  {
   "cell_type": "code",
   "execution_count": 10,
   "id": "076a45b6",
   "metadata": {},
   "outputs": [],
   "source": [
    "loan_drop3 = loan_drop2.dropna(how='all')"
   ]
  },
  {
   "cell_type": "code",
   "execution_count": 209,
   "id": "458b9844",
   "metadata": {},
   "outputs": [
    {
     "data": {
      "text/plain": [
       "(39717, 54)"
      ]
     },
     "execution_count": 209,
     "metadata": {},
     "output_type": "execute_result"
    }
   ],
   "source": [
    "loan_drop3.shape\n",
    "#No row dropped"
   ]
  },
  {
   "cell_type": "markdown",
   "id": "df29e8ec",
   "metadata": {},
   "source": [
    "3. Identify the missing values"
   ]
  },
  {
   "cell_type": "code",
   "execution_count": 284,
   "id": "c641f147",
   "metadata": {},
   "outputs": [
    {
     "data": {
      "text/html": [
       "<div>\n",
       "<style scoped>\n",
       "    .dataframe tbody tr th:only-of-type {\n",
       "        vertical-align: middle;\n",
       "    }\n",
       "\n",
       "    .dataframe tbody tr th {\n",
       "        vertical-align: top;\n",
       "    }\n",
       "\n",
       "    .dataframe thead th {\n",
       "        text-align: right;\n",
       "    }\n",
       "</style>\n",
       "<table border=\"1\" class=\"dataframe\">\n",
       "  <thead>\n",
       "    <tr style=\"text-align: right;\">\n",
       "      <th></th>\n",
       "      <th>pub_rec_bankruptcies</th>\n",
       "      <th>chargeoff_within_12_mths</th>\n",
       "      <th>collections_12_mths_ex_med</th>\n",
       "      <th>tax_liens</th>\n",
       "    </tr>\n",
       "  </thead>\n",
       "  <tbody>\n",
       "    <tr>\n",
       "      <th>count</th>\n",
       "      <td>39020.000000</td>\n",
       "      <td>39661.0</td>\n",
       "      <td>39661.0</td>\n",
       "      <td>39678.0</td>\n",
       "    </tr>\n",
       "    <tr>\n",
       "      <th>mean</th>\n",
       "      <td>0.043260</td>\n",
       "      <td>0.0</td>\n",
       "      <td>0.0</td>\n",
       "      <td>0.0</td>\n",
       "    </tr>\n",
       "    <tr>\n",
       "      <th>std</th>\n",
       "      <td>0.204324</td>\n",
       "      <td>0.0</td>\n",
       "      <td>0.0</td>\n",
       "      <td>0.0</td>\n",
       "    </tr>\n",
       "    <tr>\n",
       "      <th>min</th>\n",
       "      <td>0.000000</td>\n",
       "      <td>0.0</td>\n",
       "      <td>0.0</td>\n",
       "      <td>0.0</td>\n",
       "    </tr>\n",
       "    <tr>\n",
       "      <th>25%</th>\n",
       "      <td>0.000000</td>\n",
       "      <td>0.0</td>\n",
       "      <td>0.0</td>\n",
       "      <td>0.0</td>\n",
       "    </tr>\n",
       "    <tr>\n",
       "      <th>50%</th>\n",
       "      <td>0.000000</td>\n",
       "      <td>0.0</td>\n",
       "      <td>0.0</td>\n",
       "      <td>0.0</td>\n",
       "    </tr>\n",
       "    <tr>\n",
       "      <th>75%</th>\n",
       "      <td>0.000000</td>\n",
       "      <td>0.0</td>\n",
       "      <td>0.0</td>\n",
       "      <td>0.0</td>\n",
       "    </tr>\n",
       "    <tr>\n",
       "      <th>max</th>\n",
       "      <td>2.000000</td>\n",
       "      <td>0.0</td>\n",
       "      <td>0.0</td>\n",
       "      <td>0.0</td>\n",
       "    </tr>\n",
       "  </tbody>\n",
       "</table>\n",
       "</div>"
      ],
      "text/plain": [
       "       pub_rec_bankruptcies  chargeoff_within_12_mths  \\\n",
       "count          39020.000000                   39661.0   \n",
       "mean               0.043260                       0.0   \n",
       "std                0.204324                       0.0   \n",
       "min                0.000000                       0.0   \n",
       "25%                0.000000                       0.0   \n",
       "50%                0.000000                       0.0   \n",
       "75%                0.000000                       0.0   \n",
       "max                2.000000                       0.0   \n",
       "\n",
       "       collections_12_mths_ex_med  tax_liens  \n",
       "count                     39661.0    39678.0  \n",
       "mean                          0.0        0.0  \n",
       "std                           0.0        0.0  \n",
       "min                           0.0        0.0  \n",
       "25%                           0.0        0.0  \n",
       "50%                           0.0        0.0  \n",
       "75%                           0.0        0.0  \n",
       "max                           0.0        0.0  "
      ]
     },
     "execution_count": 284,
     "metadata": {},
     "output_type": "execute_result"
    }
   ],
   "source": [
    "loan_drop3[['desc','emp_title','emp_length','pub_rec_bankruptcies','last_pymnt_d','chargeoff_within_12_mths','collections_12_mths_ex_med','revol_util','tax_liens','title','last_credit_pull_d']].describe()"
   ]
  },
  {
   "cell_type": "code",
   "execution_count": 312,
   "id": "68be998a",
   "metadata": {},
   "outputs": [
    {
     "data": {
      "image/png": "[encoded data removed]",
      "text/plain": [
       "<Figure size 640x480 with 1 Axes>"
      ]
     },
     "metadata": {},
     "output_type": "display_data"
    },
    {
     "name": "stdout",
     "output_type": "stream",
     "text": [
      "pub_rec_bankruptcies: \n",
      " 0.0    37339\n",
      "1.0     1674\n",
      "2.0        7\n",
      "Name: pub_rec_bankruptcies, dtype: int64\n"
     ]
    },
    {
     "data": {
      "image/png": "[encoded data removed]",
      "text/plain": [
       "<Figure size 640x480 with 1 Axes>"
      ]
     },
     "metadata": {},
     "output_type": "display_data"
    },
    {
     "name": "stdout",
     "output_type": "stream",
     "text": [
      "chargeoff_within_12_mths: \n",
      " 0.0    39661\n",
      "Name: chargeoff_within_12_mths, dtype: int64\n"
     ]
    },
    {
     "data": {
      "image/png": "[encoded data removed]",
      "text/plain": [
       "<Figure size 640x480 with 1 Axes>"
      ]
     },
     "metadata": {},
     "output_type": "display_data"
    },
    {
     "name": "stdout",
     "output_type": "stream",
     "text": [
      "collections_12_mths_ex_med: \n",
      " 0.0    39661\n",
      "Name: collections_12_mths_ex_med, dtype: int64\n"
     ]
    },
    {
     "data": {
      "image/png": "[encoded data removed]",
      "text/plain": [
       "<Figure size 640x480 with 1 Axes>"
      ]
     },
     "metadata": {},
     "output_type": "display_data"
    },
    {
     "name": "stdout",
     "output_type": "stream",
     "text": [
      "tax_liens: \n",
      " 0.0    39678\n",
      "Name: tax_liens, dtype: int64\n"
     ]
    }
   ],
   "source": [
    "# For the numeric fields above, we will just show what could be the possible missing values but not imput it.\n",
    "\n",
    "import matplotlib.pyplot as plt\n",
    "for vars in ['pub_rec_bankruptcies','chargeoff_within_12_mths','collections_12_mths_ex_med','tax_liens']:\n",
    "    var=loan_drop3[vars]\n",
    "    varValue = var.value_counts()\n",
    "    plt.bar(varValue.index, varValue)\n",
    "    plt.ylabel(\"Frequency\")\n",
    "    plt.xticks(varValue.index, varValue.index.values)\n",
    "    plt.title(vars)\n",
    "    plt.show()\n",
    "    print(\"{}: \\n {}\".format(vars,varValue))"
   ]
  },
  {
   "cell_type": "markdown",
   "id": "3a1e2e50",
   "metadata": {},
   "source": [
    "\n",
    "**pub_rec_bankruptcies** : Number of bankruptcies we have is either 0, 1 or 2. 94% do not have a recorded bankrupcy. If we have to assign a missing value for it, it would be 0 (median).\n",
    "\n",
    "**chargeoff_within_12_mths** : Number of charge offs (Defaults) in last 12 months.\n",
    "99.85% people have 0, again we can take 0 to fill the missing values.\n",
    "\n",
    "**collections_12_mths_ex_med** : Number of collections in last 12 months, excluding the mediacal ones.\n",
    "It has same details as chargeoff_within_12_mths\n",
    "\n",
    "**tax_liens** : Number of tax liens, or legal claims against the assets of a customer who fails to pay taxes owed. This can be filled with 0 for missing values as 99.9% values are 0"
   ]
  },
  {
   "cell_type": "code",
   "execution_count": 353,
   "id": "6313d2da",
   "metadata": {
    "scrolled": true
   },
   "outputs": [
    {
     "name": "stdout",
     "output_type": "stream",
     "text": [
      "Count of unique values for desc : 26528\n",
      "Count of unique values for emp_title : 28821\n",
      "Count of unique values for emp_length : 12\n",
      "Count of unique values for last_pymnt_d : 102\n",
      "Count of unique values for revol_util : 1090\n",
      "Count of unique values for title : 19616\n",
      "Count of unique values for last_credit_pull_d : 107\n"
     ]
    }
   ],
   "source": [
    "# Lets see the distinct values for other (non-numerical) missing values - 'desc','emp_title','emp_length','last_pymnt_d','revol_util','title','last_credit_pull_d'\n",
    "\n",
    "for var in ['desc','emp_title','emp_length','last_pymnt_d','revol_util','title','last_credit_pull_d']:\n",
    "    print('Count of unique values for {} :'.format(var), loan_drop3[var].unique().shape[0])\n",
    "\n",
    "    # It wont make sense to fill up missing values where there are lot of disctinct values.\n",
    "    # About employee length last payment and last credit pull date, we can try to identify the missing values by first manupulating the data\n"
   ]
  },
  {
   "cell_type": "code",
   "execution_count": 354,
   "id": "c4954f8a",
   "metadata": {},
   "outputs": [
    {
     "data": {
      "text/html": [
       "<div>\n",
       "<style scoped>\n",
       "    .dataframe tbody tr th:only-of-type {\n",
       "        vertical-align: middle;\n",
       "    }\n",
       "\n",
       "    .dataframe tbody tr th {\n",
       "        vertical-align: top;\n",
       "    }\n",
       "\n",
       "    .dataframe thead th {\n",
       "        text-align: right;\n",
       "    }\n",
       "</style>\n",
       "<table border=\"1\" class=\"dataframe\">\n",
       "  <thead>\n",
       "    <tr style=\"text-align: right;\">\n",
       "      <th></th>\n",
       "      <th>desc</th>\n",
       "      <th>emp_title</th>\n",
       "      <th>emp_length</th>\n",
       "      <th>last_pymnt_d</th>\n",
       "      <th>revol_util</th>\n",
       "      <th>title</th>\n",
       "      <th>last_credit_pull_d</th>\n",
       "    </tr>\n",
       "  </thead>\n",
       "  <tbody>\n",
       "    <tr>\n",
       "      <th>0</th>\n",
       "      <td>Borrower added on 12/22/11 &gt; I need to upgra...</td>\n",
       "      <td>NaN</td>\n",
       "      <td>10+ years</td>\n",
       "      <td>Jan-15</td>\n",
       "      <td>83.70%</td>\n",
       "      <td>Computer</td>\n",
       "      <td>May-16</td>\n",
       "    </tr>\n",
       "    <tr>\n",
       "      <th>1</th>\n",
       "      <td>Borrower added on 12/22/11 &gt; I plan to use t...</td>\n",
       "      <td>Ryder</td>\n",
       "      <td>&lt; 1 year</td>\n",
       "      <td>Apr-13</td>\n",
       "      <td>9.40%</td>\n",
       "      <td>bike</td>\n",
       "      <td>Sep-13</td>\n",
       "    </tr>\n",
       "    <tr>\n",
       "      <th>2</th>\n",
       "      <td>NaN</td>\n",
       "      <td>NaN</td>\n",
       "      <td>10+ years</td>\n",
       "      <td>Jun-14</td>\n",
       "      <td>98.50%</td>\n",
       "      <td>real estate business</td>\n",
       "      <td>May-16</td>\n",
       "    </tr>\n",
       "    <tr>\n",
       "      <th>3</th>\n",
       "      <td>Borrower added on 12/21/11 &gt; to pay for prop...</td>\n",
       "      <td>AIR RESOURCES BOARD</td>\n",
       "      <td>10+ years</td>\n",
       "      <td>Jan-15</td>\n",
       "      <td>21%</td>\n",
       "      <td>personel</td>\n",
       "      <td>Apr-16</td>\n",
       "    </tr>\n",
       "    <tr>\n",
       "      <th>4</th>\n",
       "      <td>Borrower added on 12/21/11 &gt; I plan on combi...</td>\n",
       "      <td>University Medical Group</td>\n",
       "      <td>1 year</td>\n",
       "      <td>May-16</td>\n",
       "      <td>53.90%</td>\n",
       "      <td>Personal</td>\n",
       "      <td>May-16</td>\n",
       "    </tr>\n",
       "    <tr>\n",
       "      <th>...</th>\n",
       "      <td>...</td>\n",
       "      <td>...</td>\n",
       "      <td>...</td>\n",
       "      <td>...</td>\n",
       "      <td>...</td>\n",
       "      <td>...</td>\n",
       "      <td>...</td>\n",
       "    </tr>\n",
       "    <tr>\n",
       "      <th>39712</th>\n",
       "      <td>Our current gutter system on our home is old a...</td>\n",
       "      <td>FiSite Research</td>\n",
       "      <td>4 years</td>\n",
       "      <td>Jul-10</td>\n",
       "      <td>13.10%</td>\n",
       "      <td>Home Improvement</td>\n",
       "      <td>Jun-10</td>\n",
       "    </tr>\n",
       "    <tr>\n",
       "      <th>39713</th>\n",
       "      <td>The rate of interest and fees incurred by carr...</td>\n",
       "      <td>Squarewave Solutions, Ltd.</td>\n",
       "      <td>3 years</td>\n",
       "      <td>Jul-10</td>\n",
       "      <td>26.90%</td>\n",
       "      <td>Retiring credit card debt</td>\n",
       "      <td>Jul-10</td>\n",
       "    </tr>\n",
       "    <tr>\n",
       "      <th>39714</th>\n",
       "      <td>NaN</td>\n",
       "      <td>NaN</td>\n",
       "      <td>&lt; 1 year</td>\n",
       "      <td>Apr-08</td>\n",
       "      <td>19.40%</td>\n",
       "      <td>MBA Loan Consolidation</td>\n",
       "      <td>Jun-07</td>\n",
       "    </tr>\n",
       "    <tr>\n",
       "      <th>39715</th>\n",
       "      <td>NaN</td>\n",
       "      <td>NaN</td>\n",
       "      <td>&lt; 1 year</td>\n",
       "      <td>Jan-08</td>\n",
       "      <td>0.70%</td>\n",
       "      <td>JAL Loan</td>\n",
       "      <td>Jun-07</td>\n",
       "    </tr>\n",
       "    <tr>\n",
       "      <th>39716</th>\n",
       "      <td>I plan to consolidate over $7,000 of debt: a c...</td>\n",
       "      <td>Evergreen Center</td>\n",
       "      <td>&lt; 1 year</td>\n",
       "      <td>Jun-10</td>\n",
       "      <td>51.50%</td>\n",
       "      <td>Consolidation Loan</td>\n",
       "      <td>Jun-10</td>\n",
       "    </tr>\n",
       "  </tbody>\n",
       "</table>\n",
       "<p>39717 rows × 7 columns</p>\n",
       "</div>"
      ],
      "text/plain": [
       "                                                    desc  \\\n",
       "0        Borrower added on 12/22/11 > I need to upgra...   \n",
       "1        Borrower added on 12/22/11 > I plan to use t...   \n",
       "2                                                    NaN   \n",
       "3        Borrower added on 12/21/11 > to pay for prop...   \n",
       "4        Borrower added on 12/21/11 > I plan on combi...   \n",
       "...                                                  ...   \n",
       "39712  Our current gutter system on our home is old a...   \n",
       "39713  The rate of interest and fees incurred by carr...   \n",
       "39714                                                NaN   \n",
       "39715                                                NaN   \n",
       "39716  I plan to consolidate over $7,000 of debt: a c...   \n",
       "\n",
       "                        emp_title emp_length last_pymnt_d revol_util  \\\n",
       "0                             NaN  10+ years       Jan-15     83.70%   \n",
       "1                           Ryder   < 1 year       Apr-13      9.40%   \n",
       "2                             NaN  10+ years       Jun-14     98.50%   \n",
       "3             AIR RESOURCES BOARD  10+ years       Jan-15        21%   \n",
       "4        University Medical Group     1 year       May-16     53.90%   \n",
       "...                           ...        ...          ...        ...   \n",
       "39712             FiSite Research    4 years       Jul-10     13.10%   \n",
       "39713  Squarewave Solutions, Ltd.    3 years       Jul-10     26.90%   \n",
       "39714                         NaN   < 1 year       Apr-08     19.40%   \n",
       "39715                         NaN   < 1 year       Jan-08      0.70%   \n",
       "39716            Evergreen Center   < 1 year       Jun-10     51.50%   \n",
       "\n",
       "                           title last_credit_pull_d  \n",
       "0                       Computer             May-16  \n",
       "1                           bike             Sep-13  \n",
       "2           real estate business             May-16  \n",
       "3                       personel             Apr-16  \n",
       "4                       Personal             May-16  \n",
       "...                          ...                ...  \n",
       "39712           Home Improvement             Jun-10  \n",
       "39713  Retiring credit card debt             Jul-10  \n",
       "39714     MBA Loan Consolidation             Jun-07  \n",
       "39715                   JAL Loan             Jun-07  \n",
       "39716         Consolidation Loan             Jun-10  \n",
       "\n",
       "[39717 rows x 7 columns]"
      ]
     },
     "execution_count": 354,
     "metadata": {},
     "output_type": "execute_result"
    }
   ],
   "source": [
    "#Take a look at what data we have for the missing fields\n",
    "loan_drop3[['desc','emp_title','emp_length','last_pymnt_d','revol_util','title','last_credit_pull_d']]"
   ]
  },
  {
   "cell_type": "markdown",
   "id": "4dc53a2b",
   "metadata": {},
   "source": [
    " ### Before going further:\n",
    " Lets see if there are any more variables that we dont need and what are we left with finally"
   ]
  },
  {
   "cell_type": "code",
   "execution_count": 359,
   "id": "a2bf5bbb",
   "metadata": {
    "scrolled": false
   },
   "outputs": [
    {
     "data": {
      "text/plain": [
       "Index(['id', 'member_id', 'loan_amnt', 'funded_amnt', 'funded_amnt_inv',\n",
       "       'term', 'int_rate', 'installment', 'grade', 'sub_grade', 'emp_title',\n",
       "       'emp_length', 'home_ownership', 'annual_inc', 'verification_status',\n",
       "       'issue_d', 'loan_status', 'pymnt_plan', 'url', 'desc', 'purpose',\n",
       "       'title', 'zip_code', 'addr_state', 'dti', 'delinq_2yrs',\n",
       "       'earliest_cr_line', 'inq_last_6mths', 'open_acc', 'pub_rec',\n",
       "       'revol_bal', 'revol_util', 'total_acc', 'initial_list_status',\n",
       "       'out_prncp', 'out_prncp_inv', 'total_pymnt', 'total_pymnt_inv',\n",
       "       'total_rec_prncp', 'total_rec_int', 'total_rec_late_fee', 'recoveries',\n",
       "       'collection_recovery_fee', 'last_pymnt_d', 'last_pymnt_amnt',\n",
       "       'last_credit_pull_d', 'collections_12_mths_ex_med', 'policy_code',\n",
       "       'application_type', 'acc_now_delinq', 'chargeoff_within_12_mths',\n",
       "       'delinq_amnt', 'pub_rec_bankruptcies', 'tax_liens'],\n",
       "      dtype='object')"
      ]
     },
     "execution_count": 359,
     "metadata": {},
     "output_type": "execute_result"
    }
   ],
   "source": [
    "loan_drop3.columns"
   ]
  },
  {
   "cell_type": "markdown",
   "id": "1b5ef0ed",
   "metadata": {},
   "source": [
    "## Define the columns and see their relevence for business/Case Study\n",
    "\n",
    "_Marked the ones that are irrelevent in <font color='red'>red</font>._\n",
    "    \n",
    "<font color='red'> 1. **id** : Unique ID for a loan listing. This won't be of help in our analysis as each row in our data has a different value.</font>\n",
    "<br><font color='red'> 2. **member_id** : Unique ID for a borrower. This won't be of help in our analysis as each row in our data has a different value</font>\n",
    "<br>3. **loan_amnt** : Loan amount that was applied for by the borrower.\n",
    "<br>4. **funded_amnt** : Loan amount committed by LendingClub. It may not be same as the amount that was applied for.\n",
    "<br>5. **funded_amnt_inv** : Loan amount committed by investors. It can also different from funded amount, depending on vendors preference.\n",
    "<br>6. **term** : Number of payments in months for the loan. Its either 36 or 60. This needs to be verified if our data is as expected.\n",
    "<br>7. **int_rate** : Rate of interest on the loan that borrower needs to pay. This will have '%' sign, that can be removed to make it float for our analysis.\n",
    "<br>8. **installment** : Monthly payment that the borrower needs to pay for the term of loan.\n",
    "<br>9. **grade** : 7 categories from A to G, created based on cedit score and other indicators of credit risk. A has the lowest risk and volatility and hence the least rate of interest; and it increases as we go to G grade.\n",
    "<br>10. **sub_grade** : Each grade is further divided into 5 more categories from 1 to 5, so grade A1 will have the least rate of interest and A5 the most under grade A, similiary for other grades.\n",
    "<br>11. **emp_title** : Job Tile of the Borrower till Sep-23-2013, which became Employer Name after that. This can be kept to see if there is any relation for defaulters risk.\n",
    "<br>12. **emp_length** : Years for how long the borrower has been employed. This needs to be between 0 to 10, where 0 means less than a year of employment and 10 means 10 or more years. We can again check if the data is as expected.\n",
    "<br>13. **home_ownership** : Tells the home ownership status of the borrower, it can be RENT, OWN, MORTGAGE, OTHER. Few have NONE as well.\n",
    "<br>14. **annual_inc** : Annual income as provided by the borrower. We can look for outliers in this and identify them\n",
    "<br>15. **verification_status** : Indicates whether the borrowers income was verified or income source was verified. It can have values 'Verified', 'Source Verified' or 'Not Verified'.\n",
    "<br>16. **issue_d** : month in which the loan was funded. The data has Mon-YY format, we will sepearte month and year.\n",
    "<br color='red'>17. **loan_status** : Status of the load - 'Fully Paid', 'Charged Off', 'Current'. We will not be interested in Current as, the data needed for deciding the risk will not be present in Current status. We need to study the characterstics of Fully paid and charged off.\n",
    "<br><font color='red'>18. **pymnt_plan** : Indicates if a paymnet plan has been put in place for the loan. As we will see the data, its all 'n' so the variable is useless for us.\n",
    "<br><font color='red'>19. **url** : URL of Lending Club page of the loan listing based on loan ID. Its unique for each row, so not of value to our case.</font>\n",
    "<br><font color='red'>20. **desc** : Descrition provided by the borrower, this will be difficult to aggregate or take meaning out of it as it is like a comment about the loan by the borrower, so dropping it.</font>\n",
    "<br><font color='black'>21. **purpose** : Category of loan provided by the borrower, we have 14 distinct categories.</font>\n",
    "<br><font color='red'>22. **title** : The loan title provided by the borrower, its similar to purpose so we will drop this.\n",
    "<br><font color='black'>23. **zip_code** : The first 3 numbers of the zip code provided by the borrower in the loan application. The zip codes are distributed, we will keep it to see if we find any patterns. Lets clean up and remove xx from the data and have only first 3 digits.\n",
    "<br>24. **addr_state** : The state provided by the borrower in the loan application.\n",
    "<br>25. **dti** : Gives the ratio of debt paid to total income for a given month. Higher value is good.\n",
    "<br><font color='red'>26. **delinq_2yrs** : Number of 30+ days past dues cases in past 2 years. Not available at the time of loan application so ignore.\n",
    "<br>27. **earliest_cr_line** : First reported credit line month of the borrower.Not available at the time of loan application so ignore.\n",
    "<br>28. **inq_last_6mths** : The number of inquiries in past 6 months (excluding auto and mortgage inquiries). Not available at the time of loan application so ignore.\n",
    "<br>29. **open_acc** : The number of open credit lines in the borrower's credit file. Not available at the time of loan application so ignore.\n",
    "<br>30. **pub_rec** : Number of derogatory public records.Most of them have 0 records, we can ignore this from our analysis\n",
    "<br>31. **revol_bal** : Total credit revolving balance.Not available at the time of loan application so ignore.\n",
    "<br>32. **revol_util** : Amount of credit the borrower is using relative to all available revolving credit, again its for current borrower.\n",
    "<br>33. **total_acc** : The total number of credit lines currently in the borrower's credit file, ignoring as its for current borrower.\n",
    "<br>34. **initial_list_status** : The initial listing status of the loan. Possible values are – W, F. All are 'f' so ignoring it\n",
    "<br>35. **out_prncp** : Remaining outstanding principal for total amount funded, not applicable for non-current borrowers.\n",
    "<br>37. **out_prncp_inv** : Remaining outstanding principal for portion of total amount funded by investors, not applicable for non-current borrowers.\n",
    "<br>38. **total_pymnt** : Payments received to date for total amount funded, not applicable for non-current borrowers.\n",
    "<br>39. **total_pymnt_inv,** : Payments received to date for portion of total amount funded by investors, not applicable for non-current borrowers.\n",
    "<br>40. **total_rec_prncp** : Principal received to date, not applicable for non-current borrowers.\n",
    "<br>41. **total_rec_int** : Interest received to date, not applicable for non-current borrowers.\n",
    "<br>42. **total_rec_late_fee** : Late fees received to date, not applicable for non-current borrowers.\n",
    "<br>43. **recoveries,** : Post charge off gross recovery, mostly 0 for non-current borrowers, can be ignored.\n",
    "<br>44. **collection_recovery_fee** : Post charge off collection fee, same as above.\n",
    "<br>45. **last_pymnt_d** : Month when last payment was received. Not of use for our case.\n",
    "<br>46. **last_pymnt_amnt,** : Last total payment amount received. Not of use for our case.\n",
    "<br>47. **last_credit_pull_d** : The most recent month Lending Club pulled credit for this loan, its for current loan.\n",
    "<br>48. **collections_12_mths_ex_med** : Number of collections in 12 months excluding medical collections, for current loans.\n",
    "<br>49. **policy_code,** : publicly available policy_code=1, new products not publicly available policy_code=2.  We have only 1 in our data, so can be ignored.\n",
    "<br>50. **application_type** : Indicates whether the loan is an individual application or a joint application with two co-borrowers. We haev only INDIVIDUAL, so can be ignored.\n",
    "<br>51. **acc_now_delinq** : The number of accounts on which the borrower is now delinquent. We have only 0, so can be ignored.\n",
    "<br>52. **chargeoff_within_12_mths,** : Number of charge-offs within 12 months, We have only 0, so can be ignored.\n",
    "<br>53. **delinq_amnt** : The past-due amount owed for the accounts on which the borrower is now delinquent. We have only 0, so can be ignored.</font>\n",
    "<br>54. **pub_rec_bankruptcies** : Number of public record bankruptcies\n",
    "<br>55. **tax_liens** : Number of tax liens, having  more liens is a bad thing.\n",
    "       "
   ]
  },
  {
   "cell_type": "code",
   "execution_count": 176,
   "id": "a245cc1d",
   "metadata": {},
   "outputs": [
    {
     "data": {
      "text/plain": [
       "0.0    37339\n",
       "1.0     1674\n",
       "2.0        7\n",
       "Name: pub_rec_bankruptcies, dtype: int64"
      ]
     },
     "execution_count": 176,
     "metadata": {},
     "output_type": "execute_result"
    }
   ],
   "source": [
    "loan.pub_rec_bankruptcies.value_counts()\n",
    "#plt.hist(loan_drop4.revol_util)"
   ]
  },
  {
   "cell_type": "code",
   "execution_count": 416,
   "id": "a42f5622",
   "metadata": {
    "scrolled": true
   },
   "outputs": [
    {
     "data": {
      "text/plain": [
       " 36 months    29096\n",
       " 60 months    10621\n",
       "Name: term, dtype: int64"
      ]
     },
     "execution_count": 416,
     "metadata": {},
     "output_type": "execute_result"
    }
   ],
   "source": [
    "# Check if the term for loan is either 30 or 60\n",
    "loan_drop3.term.value_counts()\n",
    "\n",
    "#The data is correct."
   ]
  },
  {
   "cell_type": "code",
   "execution_count": 11,
   "id": "334fe5ad",
   "metadata": {},
   "outputs": [],
   "source": [
    "# Add a new field to represent the Rate of interest without the '%' sign\n",
    "loan_drop3[\"int_rate_withoutPercent\"]=loan_drop3.int_rate.apply(lambda x: float(x.replace('%','')))\n"
   ]
  },
  {
   "cell_type": "code",
   "execution_count": 473,
   "id": "a46dfe34",
   "metadata": {
    "scrolled": false
   },
   "outputs": [
    {
     "data": {
      "text/plain": [
       "10+ years    8879\n",
       "< 1 year     4583\n",
       "2 years      4388\n",
       "3 years      4095\n",
       "4 years      3436\n",
       "5 years      3282\n",
       "1 year       3240\n",
       "6 years      2229\n",
       "7 years      1773\n",
       "8 years      1479\n",
       "9 years      1258\n",
       "Name: emp_length, dtype: int64"
      ]
     },
     "execution_count": 473,
     "metadata": {},
     "output_type": "execute_result"
    }
   ],
   "source": [
    "#check if employee lenght variable data is as per the definition\n",
    "loan_drop3.emp_length.value_counts()"
   ]
  },
  {
   "cell_type": "code",
   "execution_count": 12,
   "id": "9b95a05a",
   "metadata": {},
   "outputs": [],
   "source": [
    "#Lets update the data to remove year and change <1 to 0 and 10+ to 10. And store it in a different variable\n",
    "#import regular expression to replace here\n",
    "import re\n",
    "loan_drop3[\"emp_length_cleaned\"]=loan_drop3.emp_length.apply(lambda x: str(x).replace('< 1 year','0'))\n",
    "loan_drop3[\"emp_length_cleaned\"]=loan_drop3.emp_length_cleaned.apply(lambda x: str(x).replace('+',''))\n",
    "loan_drop3[\"emp_length_cleaned\"]=loan_drop3.emp_length_cleaned.apply(lambda x: str(x).replace('years','year'))\n",
    "loan_drop3[\"emp_length_cleaned\"]=loan_drop3.emp_length_cleaned.apply(lambda x: str(x).replace('year',''))\n",
    "loan_drop3[\"emp_length_cleaned\"]=loan_drop3.emp_length_cleaned.apply(lambda x: str(x).replace(' ',''))\n",
    "#loan_drop3.emp_length_cleaned.astype(\"int\")\n"
   ]
  },
  {
   "cell_type": "code",
   "execution_count": 550,
   "id": "9efa4478",
   "metadata": {
    "scrolled": true
   },
   "outputs": [
    {
     "data": {
      "image/png": "[encoded data removed]",
      "text/plain": [
       "<Figure size 640x480 with 1 Axes>"
      ]
     },
     "metadata": {},
     "output_type": "display_data"
    },
    {
     "data": {
      "text/plain": [
       "10     8879\n",
       "0      4583\n",
       "2      4388\n",
       "3      4095\n",
       "4      3436\n",
       "5      3282\n",
       "1      3240\n",
       "6      2229\n",
       "7      1773\n",
       "8      1479\n",
       "9      1258\n",
       "nan    1075\n",
       "Name: emp_length_cleaned, dtype: int64"
      ]
     },
     "execution_count": 550,
     "metadata": {},
     "output_type": "execute_result"
    }
   ],
   "source": [
    "plt.hist(loan_drop3.emp_length_cleaned, bins =11)\n",
    "plt.show()\n",
    "loan_drop3.emp_length_cleaned.value_counts()"
   ]
  },
  {
   "cell_type": "code",
   "execution_count": 555,
   "id": "6a81165c",
   "metadata": {
    "scrolled": true
   },
   "outputs": [
    {
     "data": {
      "text/plain": [
       "RENT        18899\n",
       "MORTGAGE    17659\n",
       "OWN          3058\n",
       "OTHER          98\n",
       "NONE            3\n",
       "Name: home_ownership, dtype: int64"
      ]
     },
     "execution_count": 555,
     "metadata": {},
     "output_type": "execute_result"
    }
   ],
   "source": [
    "loan_drop3.home_ownership.value_counts()"
   ]
  },
  {
   "cell_type": "code",
   "execution_count": 566,
   "id": "21257a5f",
   "metadata": {
    "scrolled": true
   },
   "outputs": [
    {
     "data": {
      "image/png": "[encoded data removed]",
      "text/plain": [
       "<Figure size 640x480 with 1 Axes>"
      ]
     },
     "metadata": {},
     "output_type": "display_data"
    },
    {
     "data": {
      "text/plain": [
       "count    3.971700e+04\n",
       "mean     6.896893e+04\n",
       "std      6.379377e+04\n",
       "min      4.000000e+03\n",
       "25%      4.040400e+04\n",
       "50%      5.900000e+04\n",
       "75%      8.230000e+04\n",
       "max      6.000000e+06\n",
       "Name: annual_inc, dtype: float64"
      ]
     },
     "execution_count": 566,
     "metadata": {},
     "output_type": "execute_result"
    }
   ],
   "source": [
    "plt.boxplot(loan_drop3.annual_inc/1000000)\n",
    "plt.show()\n",
    "loan_drop3.annual_inc.value_counts()\n",
    "loan_drop3.annual_inc.describe()\n"
   ]
  },
  {
   "cell_type": "code",
   "execution_count": 15,
   "id": "78c55d6d",
   "metadata": {},
   "outputs": [],
   "source": [
    "loan_drop3[\"issue_month\"]=loan_drop3.issue_d.apply(lambda x: str(x)[0:3])"
   ]
  },
  {
   "cell_type": "code",
   "execution_count": 70,
   "id": "20cf6738",
   "metadata": {},
   "outputs": [],
   "source": [
    "# Unique value of year is  -07,08,09,10 and 11, so its safe to assume that these are 2007-2011 years\n",
    "loan_drop3[\"issue_year\"]=loan_drop3.issue_d.apply(lambda x: '20'+str(x)[4:6])"
   ]
  },
  {
   "cell_type": "code",
   "execution_count": 71,
   "id": "7e544b68",
   "metadata": {},
   "outputs": [
    {
     "data": {
      "text/plain": [
       "array(['2011', '2010', '2009', '2008', '2007'], dtype=object)"
      ]
     },
     "execution_count": 71,
     "metadata": {},
     "output_type": "execute_result"
    }
   ],
   "source": [
    "loan_drop3[\"issue_year\"].unique()"
   ]
  },
  {
   "cell_type": "code",
   "execution_count": 43,
   "id": "80fc92e8",
   "metadata": {},
   "outputs": [],
   "source": [
    "loan_drop4=loan_drop3[loan_drop3.loan_status != 'Current']"
   ]
  },
  {
   "cell_type": "code",
   "execution_count": 44,
   "id": "ef346fed",
   "metadata": {
    "scrolled": true
   },
   "outputs": [
    {
     "name": "stderr",
     "output_type": "stream",
     "text": [
      "C:\\Users\\sadhn\\AppData\\Local\\Temp\\ipykernel_17844\\3081891318.py:1: SettingWithCopyWarning: \n",
      "A value is trying to be set on a copy of a slice from a DataFrame\n",
      "\n",
      "See the caveats in the documentation: https://pandas.pydata.org/pandas-docs/stable/user_guide/indexing.html#returning-a-view-versus-a-copy\n",
      "  loan_drop4.drop(columns=['pymnt_plan','desc'], inplace=True)\n"
     ]
    }
   ],
   "source": [
    "loan_drop4.drop(columns=['pymnt_plan','desc'], inplace=True)"
   ]
  },
  {
   "cell_type": "code",
   "execution_count": 55,
   "id": "cf039dcf",
   "metadata": {},
   "outputs": [
    {
     "name": "stderr",
     "output_type": "stream",
     "text": [
      "C:\\Users\\sadhn\\AppData\\Local\\Temp\\ipykernel_17844\\861748841.py:1: SettingWithCopyWarning: \n",
      "A value is trying to be set on a copy of a slice from a DataFrame.\n",
      "Try using .loc[row_indexer,col_indexer] = value instead\n",
      "\n",
      "See the caveats in the documentation: https://pandas.pydata.org/pandas-docs/stable/user_guide/indexing.html#returning-a-view-versus-a-copy\n",
      "  loan_drop4.zip_code=loan_drop4.zip_code.apply(lambda x: str(x)[0:3])\n"
     ]
    }
   ],
   "source": [
    "loan_drop4.zip_code=loan_drop4.zip_code.apply(lambda x: str(x)[0:3])"
   ]
  },
  {
   "cell_type": "code",
   "execution_count": 96,
   "id": "58831478",
   "metadata": {},
   "outputs": [
    {
     "name": "stderr",
     "output_type": "stream",
     "text": [
      "C:\\Users\\sadhn\\AppData\\Local\\Temp\\ipykernel_17844\\857167109.py:1: SettingWithCopyWarning: \n",
      "A value is trying to be set on a copy of a slice from a DataFrame.\n",
      "Try using .loc[row_indexer,col_indexer] = value instead\n",
      "\n",
      "See the caveats in the documentation: https://pandas.pydata.org/pandas-docs/stable/user_guide/indexing.html#returning-a-view-versus-a-copy\n",
      "  loan_drop4[\"earliest_cr_line_month\"]=loan_drop4.earliest_cr_line.apply(lambda x: str(x)[0:3])\n"
     ]
    }
   ],
   "source": [
    "loan_drop4[\"earliest_cr_line_month\"]=loan_drop4.earliest_cr_line.apply(lambda x: str(x)[0:3])"
   ]
  },
  {
   "cell_type": "code",
   "execution_count": 138,
   "id": "c0b86b19",
   "metadata": {},
   "outputs": [
    {
     "name": "stderr",
     "output_type": "stream",
     "text": [
      "C:\\Users\\sadhn\\AppData\\Local\\Temp\\ipykernel_17844\\670273982.py:4: SettingWithCopyWarning: \n",
      "A value is trying to be set on a copy of a slice from a DataFrame.\n",
      "Try using .loc[row_indexer,col_indexer] = value instead\n",
      "\n",
      "See the caveats in the documentation: https://pandas.pydata.org/pandas-docs/stable/user_guide/indexing.html#returning-a-view-versus-a-copy\n",
      "  loan_drop4[\"earliest_cr_line_year\"]=loan_drop4.earliest_cr_line.apply(lambda x: '20'+str(x)[4:6] if str(x)[4:6][0:1] == '0' else '19'+str(x)[4:6] )\n"
     ]
    }
   ],
   "source": [
    "loan_drop3.earliest_cr_line.apply(lambda x: str(x)[4:6]).sort_values().unique()\n",
    "\n",
    "#The unique value of year is from 01 to 08 and then from 46 to 99. This means that 46 to 99 is from 1900 and 01 to 08 from 2000\n",
    "loan_drop4[\"earliest_cr_line_year\"]=loan_drop4.earliest_cr_line.apply(lambda x: '20'+str(x)[4:6] if str(x)[4:6][0:1] == '0' else '19'+str(x)[4:6] )"
   ]
  },
  {
   "cell_type": "code",
   "execution_count": 139,
   "id": "76e8cd6f",
   "metadata": {},
   "outputs": [
    {
     "data": {
      "text/plain": [
       "0        1985\n",
       "1        1999\n",
       "2        2001\n",
       "3        1996\n",
       "5        2004\n",
       "         ... \n",
       "39712    1990\n",
       "39713    1986\n",
       "39714    1998\n",
       "39715    1988\n",
       "39716    2003\n",
       "Name: earliest_cr_line_year, Length: 38577, dtype: object"
      ]
     },
     "execution_count": 139,
     "metadata": {},
     "output_type": "execute_result"
    }
   ],
   "source": [
    "loan_drop4[\"earliest_cr_line_year\"]"
   ]
  },
  {
   "cell_type": "code",
   "execution_count": 140,
   "id": "333a85c1",
   "metadata": {},
   "outputs": [
    {
     "data": {
      "text/plain": [
       "array(['1946', '1950', '1954', '1956', '1959', '1961', '1962', '1963',\n",
       "       '1964', '1965', '1966', '1967', '1968', '1969', '1970', '1971',\n",
       "       '1972', '1973', '1974', '1975', '1976', '1977', '1978', '1979',\n",
       "       '1980', '1981', '1982', '1983', '1984', '1985', '1986', '1987',\n",
       "       '1988', '1989', '1990', '1991', '1992', '1993', '1994', '1995',\n",
       "       '1996', '1997', '1998', '1999', '2000', '2001', '2002', '2003',\n",
       "       '2004', '2005', '2006', '2007', '2008'], dtype=object)"
      ]
     },
     "execution_count": 140,
     "metadata": {},
     "output_type": "execute_result"
    }
   ],
   "source": [
    "loan_drop4[\"earliest_cr_line_year\"].sort_values().unique()"
   ]
  },
  {
   "cell_type": "code",
   "execution_count": 142,
   "id": "ff416a02",
   "metadata": {
    "scrolled": true
   },
   "outputs": [
    {
     "data": {
      "image/png": "[encoded data removed]",
      "text/plain": [
       "<Figure size 640x480 with 1 Axes>"
      ]
     },
     "metadata": {},
     "output_type": "display_data"
    },
    {
     "data": {
      "text/plain": [
       "count    38577.000000\n",
       "mean         9.275423\n",
       "std          4.401588\n",
       "min          2.000000\n",
       "25%          6.000000\n",
       "50%          9.000000\n",
       "75%         12.000000\n",
       "max         44.000000\n",
       "Name: open_acc, dtype: float64"
      ]
     },
     "execution_count": 142,
     "metadata": {},
     "output_type": "execute_result"
    }
   ],
   "source": [
    "import matplotlib.pyplot as plt\n",
    "plt.boxplot(loan_drop4.open_acc)\n",
    "plt.show()\n",
    "loan_drop4.open_acc.value_counts()\n",
    "loan_drop4.open_acc.describe()\n"
   ]
  },
  {
   "cell_type": "code",
   "execution_count": 147,
   "id": "5d7ef035",
   "metadata": {
    "scrolled": true
   },
   "outputs": [
    {
     "data": {
      "image/png": "[encoded data removed]",
      "text/plain": [
       "<Figure size 640x480 with 1 Axes>"
      ]
     },
     "metadata": {},
     "output_type": "display_data"
    },
    {
     "data": {
      "text/plain": [
       "0    36507\n",
       "1     2013\n",
       "2       48\n",
       "3        7\n",
       "4        2\n",
       "Name: pub_rec, dtype: int64"
      ]
     },
     "execution_count": 147,
     "metadata": {},
     "output_type": "execute_result"
    }
   ],
   "source": [
    "plt.hist(loan_drop4.pub_rec)\n",
    "plt.show()\n",
    "loan_drop4.pub_rec.value_counts()"
   ]
  }
 ],
 "metadata": {
  "kernelspec": {
   "display_name": "Python 3 (ipykernel)",
   "language": "python",
   "name": "python3"
  },
  "language_info": {
   "codemirror_mode": {
    "name": "ipython",
    "version": 3
   },
   "file_extension": ".py",
   "mimetype": "text/x-python",
   "name": "python",
   "nbconvert_exporter": "python",
   "pygments_lexer": "ipython3",
   "version": "3.9.13"
  }
 },
 "nbformat": 4,
 "nbformat_minor": 5
}
